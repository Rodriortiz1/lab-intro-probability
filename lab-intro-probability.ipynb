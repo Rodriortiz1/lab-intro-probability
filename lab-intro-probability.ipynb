{
 "cells": [
  {
   "cell_type": "markdown",
   "metadata": {},
   "source": [
    "# Lab | Intro to Probability"
   ]
  },
  {
   "cell_type": "markdown",
   "metadata": {},
   "source": [
    "**Objective**\n",
    "\n",
    "Welcome to this Intro to Probability lab, where we explore decision-making scenarios through the lens of probability and strategic analysis. In the business world, making informed decisions is crucial, especially when faced with uncertainties. This lab focuses on scenarios where probabilistic outcomes play a significant role in shaping strategies and outcomes. Students will engage in exercises that require assessing and choosing optimal paths based on data-driven insights. The goal is to enhance your skills by applying probability concepts to solve real-world problems."
   ]
  },
  {
   "cell_type": "markdown",
   "metadata": {},
   "source": [
    "**Challenge 1**"
   ]
  },
  {
   "cell_type": "markdown",
   "metadata": {},
   "source": [
    "#### Ironhack Airlines \n",
    "\n",
    "Often Airlines sell more tickets than they have seats available, this is called overbooking. Consider the following:\n",
    "- A plane has 450 seats. \n",
    "- Based on historical data we conclude that each individual passenger has a 3% chance of missing it's flight. \n",
    "\n",
    "If the Ironhack Airlines routinely sells 460 tickets, what is the chance that they have a seats for all passenger?"
   ]
  },
  {
   "cell_type": "code",
   "execution_count": 14,
   "metadata": {},
   "outputs": [
    {
     "name": "stdout",
     "output_type": "stream",
     "text": [
      "La probabilidad de que haya asientos para todos los pasajeros es: 0.8845\n"
     ]
    }
   ],
   "source": [
    "import scipy.stats as stats\n",
    "\n",
    "\n",
    "N = 460   \n",
    "n = 450   \n",
    "p = 0.97  \n",
    "\n",
    "prob = stats.binom.cdf(n, N, p)\n",
    "\n",
    "print(f\"La probabilidad de que haya asientos para todos los pasajeros es: {prob:.4f}\")"
   ]
  },
  {
   "cell_type": "markdown",
   "metadata": {},
   "source": [
    "**Challenge 2**"
   ]
  },
  {
   "cell_type": "markdown",
   "metadata": {},
   "source": [
    "#### Ironhack Call Center "
   ]
  },
  {
   "cell_type": "markdown",
   "metadata": {},
   "source": [
    "Suppose a customer service representative at a call center is handling customer complaints. Consider the following:\n",
    "- The probability of successfully resolving a customer complaint on the first attempt is 0.3. \n",
    "\n",
    "\n",
    "What is the probability that the representative needs to make at least three attempts before successfully resolving a customer complaint?"
   ]
  },
  {
   "cell_type": "code",
   "execution_count": 17,
   "metadata": {},
   "outputs": [
    {
     "name": "stdout",
     "output_type": "stream",
     "text": [
      "La probabilidad de que se necesiten al menos tres intentos es: 0.49\n"
     ]
    }
   ],
   "source": [
    "from scipy.stats import geom\n",
    "\n",
    "p = 0.3\n",
    "\n",
    "geom_dist = geom(p)\n",
    "\n",
    "\n",
    "P_X_less_than_3 = geom_dist.cdf(2)\n",
    "\n",
    "\n",
    "P_X_at_least_3 = 1 - P_X_less_than_3\n",
    "\n",
    "print(f\"La probabilidad de que se necesiten al menos tres intentos es: {P_X_at_least_3}\")"
   ]
  },
  {
   "cell_type": "markdown",
   "metadata": {},
   "source": [
    "**Challenge 3**"
   ]
  },
  {
   "cell_type": "markdown",
   "metadata": {},
   "source": [
    "#### Ironhack Website"
   ]
  },
  {
   "cell_type": "markdown",
   "metadata": {},
   "source": [
    "Consider a scenario related to Ironhack website traffic. Where:\n",
    "- our website takes on average 500 visits per hour.\n",
    "- the website's server is designed to handle up to 550 vists per hour.\n",
    "\n",
    "\n",
    "What is the probability of the website server being overwhelmed?"
   ]
  },
  {
   "cell_type": "code",
   "execution_count": 18,
   "metadata": {},
   "outputs": [
    {
     "name": "stdout",
     "output_type": "stream",
     "text": [
      "La probabilidad de que el servidor sea abrumado es: 0.0129\n"
     ]
    }
   ],
   "source": [
    "from scipy.stats import poisson\n",
    "\n",
    "lambda_visits = 500  \n",
    "threshold = 550  \n",
    "\n",
    "\n",
    "P_X_leq_550 = poisson.cdf(threshold, lambda_visits)\n",
    "\n",
    "P_X_greater_550 = 1 - P_X_leq_550\n",
    "\n",
    "print(f\"La probabilidad de que el servidor sea abrumado es: {P_X_greater_550:.4f}\")"
   ]
  },
  {
   "cell_type": "markdown",
   "metadata": {},
   "source": [
    "What is the probability of being overwhelmed at some point during a day? (consider 24hours)"
   ]
  },
  {
   "cell_type": "code",
   "execution_count": 20,
   "metadata": {},
   "outputs": [
    {
     "name": "stdout",
     "output_type": "stream",
     "text": [
      "La probabilidad de que el servidor sea abrumado al menos una vez en 24 horas es: 0.2677\n"
     ]
    }
   ],
   "source": [
    "from scipy.stats import poisson\n",
    "\n",
    "lambda_visits = 500  \n",
    "threshold = 550  \n",
    "\n",
    "P_X_leq_550 = poisson.cdf(threshold, lambda_visits)\n",
    "P_overwhelmed = 1 - P_X_leq_550\n",
    "\n",
    "P_not_overwhelmed = 1 - P_overwhelmed\n",
    "\n",
    "P_not_overwhelmed_in_24hours = P_not_overwhelmed ** 24\n",
    "\n",
    "P_overwhelmed_in_24hours = 1 - P_not_overwhelmed_in_24hours\n",
    "\n",
    "print(f\"La probabilidad de que el servidor sea abrumado al menos una vez en 24 horas es: {P_overwhelmed_in_24hours:.4f}\")"
   ]
  },
  {
   "cell_type": "markdown",
   "metadata": {},
   "source": [
    "**Challenge 4**"
   ]
  },
  {
   "cell_type": "markdown",
   "metadata": {},
   "source": [
    "#### Ironhack Helpdesk"
   ]
  },
  {
   "cell_type": "markdown",
   "metadata": {},
   "source": [
    "Consider a scenario related to the time between arrivals of customers at a service desk.\n",
    "\n",
    "On average, a customers arrives every 10minutes.\n",
    "\n",
    "What is the probability that the next customer will arrive within the next 5 minutes?"
   ]
  },
  {
   "cell_type": "code",
   "execution_count": 24,
   "metadata": {},
   "outputs": [
    {
     "name": "stdout",
     "output_type": "stream",
     "text": [
      "La probabilidad de que el próximo cliente llegue dentro de los próximos 5 minutos es: 0.3935\n"
     ]
    }
   ],
   "source": [
    "from scipy.stats import expon\n",
    "\n",
    "#the parameter represents the rate of events occuring per unit of time\n",
    "lambda_value = 0.1\n",
    "\n",
    "lambda_inv = expon(scale = 1/lambda_value)\n",
    "\n",
    "lambda_inv.cdf(5)\n",
    "print(f\"La probabilidad de que el próximo cliente llegue dentro de los próximos 5 minutos es: {lambda_inv.cdf(5):.4f}\")"
   ]
  },
  {
   "cell_type": "markdown",
   "metadata": {},
   "source": [
    "If there is no customer for 15minutes, employees can that a 5minutes break.\n",
    "\n",
    "What is the probability an employee taking a break?"
   ]
  },
  {
   "cell_type": "code",
   "execution_count": 25,
   "metadata": {},
   "outputs": [
    {
     "name": "stdout",
     "output_type": "stream",
     "text": [
      "La probabilidad de que no llegue ningún cliente en 15 minutos y el empleado pueda tomar un descanso es: 0.2231\n"
     ]
    }
   ],
   "source": [
    "import math\n",
    "\n",
    "lambda_rate = 0.1  \n",
    "t = 15  \n",
    "\n",
    "\n",
    "P_T_greater_15 = math.exp(-lambda_rate * t)\n",
    "\n",
    "print(f\"La probabilidad de que no llegue ningún cliente en 15 minutos y el empleado pueda tomar un descanso es: {P_T_greater_15:.4f}\")"
   ]
  },
  {
   "cell_type": "markdown",
   "metadata": {},
   "source": [
    "**Challenge 5**"
   ]
  },
  {
   "cell_type": "markdown",
   "metadata": {},
   "source": [
    "The weights of a certain species of birds follow a normal distribution with a mean weight of 150 grams and a standard deviation of 10 grams. \n",
    "\n",
    "- If we randomly select a bird, what is the probability that its weight is between 140 and 160 grams?"
   ]
  },
  {
   "cell_type": "code",
   "execution_count": 27,
   "metadata": {},
   "outputs": [
    {
     "name": "stdout",
     "output_type": "stream",
     "text": [
      "La probabilidad de que el peso de un pájaro esté entre 140 y 160 gramos es: 0.6827\n"
     ]
    }
   ],
   "source": [
    "from scipy.stats import norm\n",
    "\n",
    "mu = 150  \n",
    "sigma = 10  \n",
    "\n",
    "z_140 = (140 - mu) / sigma\n",
    "z_160 = (160 - mu) / sigma\n",
    "\n",
    "P_140 = norm.cdf(z_140)\n",
    "P_160 = norm.cdf(z_160)\n",
    "\n",
    "P_between_140_and_160 = P_160 - P_140\n",
    "\n",
    "print(f\"La probabilidad de que el peso de un pájaro esté entre 140 y 160 gramos es: {P_between_140_and_160:.4f}\")"
   ]
  },
  {
   "cell_type": "markdown",
   "metadata": {},
   "source": [
    "**Challenge 6**"
   ]
  },
  {
   "cell_type": "markdown",
   "metadata": {},
   "source": [
    "If the lifetime (in hours) of a certain electronic component follows an exponential distribution with a mean lifetime of 50 hours, what is the probability that the component fails within the first 30 hours?"
   ]
  },
  {
   "cell_type": "code",
   "execution_count": 31,
   "metadata": {},
   "outputs": [
    {
     "data": {
      "text/plain": [
       "0.9999996940976795"
      ]
     },
     "execution_count": 31,
     "metadata": {},
     "output_type": "execute_result"
    }
   ],
   "source": [
    "from scipy.stats import expon\n",
    "\n",
    "#the parameter represents the rate of events occuring per unit of time\n",
    "lambda_value = 0.5\n",
    "\n",
    "lambda_inv = expon(scale = 1/lambda_value)\n",
    "\n",
    "lambda_inv.cdf(30)"
   ]
  },
  {
   "cell_type": "code",
   "execution_count": 32,
   "metadata": {},
   "outputs": [
    {
     "name": "stdout",
     "output_type": "stream",
     "text": [
      "La probabilidad de que el componente falle dentro de las primeras 30 horas es: 0.4512\n"
     ]
    }
   ],
   "source": [
    "import math\n",
    "\n",
    "# Parámetros\n",
    "mean_lifetime = 50  # Vida media en horas\n",
    "lambda_rate = 1 / mean_lifetime  # Tasa de falla\n",
    "t = 30  # Tiempo en horas\n",
    "\n",
    "# Calcular la probabilidad usando la CDF de la distribución exponencial\n",
    "P_T_leq_30 = 1 - math.exp(-lambda_rate * t)\n",
    "\n",
    "print(f\"La probabilidad de que el componente falle dentro de las primeras 30 horas es: {P_T_leq_30:.4f}\")"
   ]
  }
 ],
 "metadata": {
  "kernelspec": {
   "display_name": "Python 3 (ipykernel)",
   "language": "python",
   "name": "python3"
  },
  "language_info": {
   "codemirror_mode": {
    "name": "ipython",
    "version": 3
   },
   "file_extension": ".py",
   "mimetype": "text/x-python",
   "name": "python",
   "nbconvert_exporter": "python",
   "pygments_lexer": "ipython3",
   "version": "3.12.4"
  }
 },
 "nbformat": 4,
 "nbformat_minor": 2
}
